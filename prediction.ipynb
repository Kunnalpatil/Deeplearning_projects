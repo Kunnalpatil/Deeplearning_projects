{
 "cells": [
  {
   "cell_type": "code",
   "execution_count": 1,
   "metadata": {},
   "outputs": [],
   "source": [
    "# Step 1 : Import Libraries and Load the mode\n",
    "\n",
    "import numpy as np\n",
    "import tensorflow as tf\n",
    "from tensorflow.keras.datasets import imdb\n",
    "from tensorflow.keras.preprocessing  import sequence\n",
    "from tensorflow.keras.models import load_model\n"
   ]
  },
  {
   "cell_type": "code",
   "execution_count": 2,
   "metadata": {},
   "outputs": [],
   "source": [
    "## Load IMDB dataset word index\n",
    "\n",
    "word_index = imdb.get_word_index()\n",
    "reverse_word_index = {value :key for key, value in word_index.items()}"
   ]
  },
  {
   "cell_type": "code",
   "execution_count": null,
   "metadata": {},
   "outputs": [
    {
     "name": "stderr",
     "output_type": "stream",
     "text": [
      "<>:2: SyntaxWarning: invalid escape sequence '\\A'\n",
      "<>:2: SyntaxWarning: invalid escape sequence '\\A'\n",
      "C:\\Users\\kunna\\AppData\\Local\\Temp\\ipykernel_17320\\4156751310.py:2: SyntaxWarning: invalid escape sequence '\\A'\n",
      "  model = load_model('F:\\AI\\GenAi\\Projects\\Simple_RNN_\\simple_rnn_imdb.h5')\n",
      "WARNING:absl:Compiled the loaded model, but the compiled metrics have yet to be built. `model.compile_metrics` will be empty until you train or evaluate the model.\n"
     ]
    },
    {
     "data": {
      "text/html": [
       "<pre style=\"white-space:pre;overflow-x:auto;line-height:normal;font-family:Menlo,'DejaVu Sans Mono',consolas,'Courier New',monospace\"><span style=\"font-weight: bold\">Model: \"sequential\"</span>\n",
       "</pre>\n"
      ],
      "text/plain": [
       "\u001b[1mModel: \"sequential\"\u001b[0m\n"
      ]
     },
     "metadata": {},
     "output_type": "display_data"
    },
    {
     "data": {
      "text/html": [
       "<pre style=\"white-space:pre;overflow-x:auto;line-height:normal;font-family:Menlo,'DejaVu Sans Mono',consolas,'Courier New',monospace\">┏━━━━━━━━━━━━━━━━━━━━━━━━━━━━━━━━━┳━━━━━━━━━━━━━━━━━━━━━━━━┳━━━━━━━━━━━━━━━┓\n",
       "┃<span style=\"font-weight: bold\"> Layer (type)                    </span>┃<span style=\"font-weight: bold\"> Output Shape           </span>┃<span style=\"font-weight: bold\">       Param # </span>┃\n",
       "┡━━━━━━━━━━━━━━━━━━━━━━━━━━━━━━━━━╇━━━━━━━━━━━━━━━━━━━━━━━━╇━━━━━━━━━━━━━━━┩\n",
       "│ embedding (<span style=\"color: #0087ff; text-decoration-color: #0087ff\">Embedding</span>)           │ (<span style=\"color: #00d7ff; text-decoration-color: #00d7ff\">None</span>, <span style=\"color: #00af00; text-decoration-color: #00af00\">500</span>, <span style=\"color: #00af00; text-decoration-color: #00af00\">128</span>)       │     <span style=\"color: #00af00; text-decoration-color: #00af00\">1,280,000</span> │\n",
       "├─────────────────────────────────┼────────────────────────┼───────────────┤\n",
       "│ simple_rnn (<span style=\"color: #0087ff; text-decoration-color: #0087ff\">SimpleRNN</span>)          │ (<span style=\"color: #00d7ff; text-decoration-color: #00d7ff\">None</span>, <span style=\"color: #00af00; text-decoration-color: #00af00\">128</span>)            │        <span style=\"color: #00af00; text-decoration-color: #00af00\">32,896</span> │\n",
       "├─────────────────────────────────┼────────────────────────┼───────────────┤\n",
       "│ dense (<span style=\"color: #0087ff; text-decoration-color: #0087ff\">Dense</span>)                   │ (<span style=\"color: #00d7ff; text-decoration-color: #00d7ff\">None</span>, <span style=\"color: #00af00; text-decoration-color: #00af00\">1</span>)              │           <span style=\"color: #00af00; text-decoration-color: #00af00\">129</span> │\n",
       "└─────────────────────────────────┴────────────────────────┴───────────────┘\n",
       "</pre>\n"
      ],
      "text/plain": [
       "┏━━━━━━━━━━━━━━━━━━━━━━━━━━━━━━━━━┳━━━━━━━━━━━━━━━━━━━━━━━━┳━━━━━━━━━━━━━━━┓\n",
       "┃\u001b[1m \u001b[0m\u001b[1mLayer (type)                   \u001b[0m\u001b[1m \u001b[0m┃\u001b[1m \u001b[0m\u001b[1mOutput Shape          \u001b[0m\u001b[1m \u001b[0m┃\u001b[1m \u001b[0m\u001b[1m      Param #\u001b[0m\u001b[1m \u001b[0m┃\n",
       "┡━━━━━━━━━━━━━━━━━━━━━━━━━━━━━━━━━╇━━━━━━━━━━━━━━━━━━━━━━━━╇━━━━━━━━━━━━━━━┩\n",
       "│ embedding (\u001b[38;5;33mEmbedding\u001b[0m)           │ (\u001b[38;5;45mNone\u001b[0m, \u001b[38;5;34m500\u001b[0m, \u001b[38;5;34m128\u001b[0m)       │     \u001b[38;5;34m1,280,000\u001b[0m │\n",
       "├─────────────────────────────────┼────────────────────────┼───────────────┤\n",
       "│ simple_rnn (\u001b[38;5;33mSimpleRNN\u001b[0m)          │ (\u001b[38;5;45mNone\u001b[0m, \u001b[38;5;34m128\u001b[0m)            │        \u001b[38;5;34m32,896\u001b[0m │\n",
       "├─────────────────────────────────┼────────────────────────┼───────────────┤\n",
       "│ dense (\u001b[38;5;33mDense\u001b[0m)                   │ (\u001b[38;5;45mNone\u001b[0m, \u001b[38;5;34m1\u001b[0m)              │           \u001b[38;5;34m129\u001b[0m │\n",
       "└─────────────────────────────────┴────────────────────────┴───────────────┘\n"
      ]
     },
     "metadata": {},
     "output_type": "display_data"
    },
    {
     "data": {
      "text/html": [
       "<pre style=\"white-space:pre;overflow-x:auto;line-height:normal;font-family:Menlo,'DejaVu Sans Mono',consolas,'Courier New',monospace\"><span style=\"font-weight: bold\"> Total params: </span><span style=\"color: #00af00; text-decoration-color: #00af00\">1,313,027</span> (5.01 MB)\n",
       "</pre>\n"
      ],
      "text/plain": [
       "\u001b[1m Total params: \u001b[0m\u001b[38;5;34m1,313,027\u001b[0m (5.01 MB)\n"
      ]
     },
     "metadata": {},
     "output_type": "display_data"
    },
    {
     "data": {
      "text/html": [
       "<pre style=\"white-space:pre;overflow-x:auto;line-height:normal;font-family:Menlo,'DejaVu Sans Mono',consolas,'Courier New',monospace\"><span style=\"font-weight: bold\"> Trainable params: </span><span style=\"color: #00af00; text-decoration-color: #00af00\">1,313,025</span> (5.01 MB)\n",
       "</pre>\n"
      ],
      "text/plain": [
       "\u001b[1m Trainable params: \u001b[0m\u001b[38;5;34m1,313,025\u001b[0m (5.01 MB)\n"
      ]
     },
     "metadata": {},
     "output_type": "display_data"
    },
    {
     "data": {
      "text/html": [
       "<pre style=\"white-space:pre;overflow-x:auto;line-height:normal;font-family:Menlo,'DejaVu Sans Mono',consolas,'Courier New',monospace\"><span style=\"font-weight: bold\"> Non-trainable params: </span><span style=\"color: #00af00; text-decoration-color: #00af00\">0</span> (0.00 B)\n",
       "</pre>\n"
      ],
      "text/plain": [
       "\u001b[1m Non-trainable params: \u001b[0m\u001b[38;5;34m0\u001b[0m (0.00 B)\n"
      ]
     },
     "metadata": {},
     "output_type": "display_data"
    },
    {
     "data": {
      "text/html": [
       "<pre style=\"white-space:pre;overflow-x:auto;line-height:normal;font-family:Menlo,'DejaVu Sans Mono',consolas,'Courier New',monospace\"><span style=\"font-weight: bold\"> Optimizer params: </span><span style=\"color: #00af00; text-decoration-color: #00af00\">2</span> (12.00 B)\n",
       "</pre>\n"
      ],
      "text/plain": [
       "\u001b[1m Optimizer params: \u001b[0m\u001b[38;5;34m2\u001b[0m (12.00 B)\n"
      ]
     },
     "metadata": {},
     "output_type": "display_data"
    }
   ],
   "source": [
    "# Load the pre-trained model \n",
    "model = load_model('Simple_RNN_\\simple_rnn_imdb.h5')\n",
    "model.summary()"
   ]
  },
  {
   "cell_type": "code",
   "execution_count": 10,
   "metadata": {},
   "outputs": [
    {
     "name": "stdout",
     "output_type": "stream",
     "text": [
      "[array([[ 1.3326348 , -0.9263675 , -0.03072615, ...,  0.03812368,\n",
      "         0.0090624 , -1.2096202 ],\n",
      "       [-0.00760397, -0.06356496, -0.04809799, ..., -0.00619861,\n",
      "        -0.03797063, -0.02371599],\n",
      "       [ 0.04687709, -0.10968758,  0.10990869, ...,  0.08876454,\n",
      "         0.08440291, -0.06422013],\n",
      "       ...,\n",
      "       [-0.07497745, -0.01030601,  0.01516105, ..., -0.00402223,\n",
      "         0.10390063,  0.04479904],\n",
      "       [ 0.00870272,  0.04385978,  0.0128585 , ..., -0.02910742,\n",
      "        -0.05157993,  0.0200438 ],\n",
      "       [-0.09042861,  0.00238906,  0.08104098, ...,  0.12173304,\n",
      "         0.07576955,  0.04474944]], dtype=float32), array([[-0.03915884, -0.0385041 , -0.11949655, ..., -0.00436486,\n",
      "        -0.02261893,  0.04514259],\n",
      "       [-0.10906871, -0.0367725 ,  0.11480443, ...,  0.03754601,\n",
      "         0.04498415,  0.11871189],\n",
      "       [ 0.118261  ,  0.09142109,  0.18711072, ...,  0.06062871,\n",
      "        -0.08761777, -0.04484267],\n",
      "       ...,\n",
      "       [ 0.13122821,  0.00152414,  0.08367215, ..., -0.0416216 ,\n",
      "        -0.02593794, -0.06452093],\n",
      "       [ 0.04843039, -0.10837325,  0.14935935, ..., -0.00126479,\n",
      "        -0.13415936,  0.06357616],\n",
      "       [-0.01946432,  0.1517871 ,  0.07734815, ...,  0.1317259 ,\n",
      "         0.09460344, -0.04550923]], dtype=float32), array([[ 0.10498893, -0.04353387,  0.19057588, ..., -0.11240929,\n",
      "         0.14337404, -0.07302441],\n",
      "       [-0.09993581, -0.10018906,  0.02271887, ..., -0.16094431,\n",
      "         0.07947858, -0.01620966],\n",
      "       [ 0.02221233,  0.03125602,  0.03954135, ...,  0.02610818,\n",
      "        -0.06217076,  0.09889529],\n",
      "       ...,\n",
      "       [ 0.01540545,  0.02049258, -0.14827187, ...,  0.01197197,\n",
      "        -0.04318086, -0.0289491 ],\n",
      "       [-0.03095968, -0.0154916 ,  0.05275903, ..., -0.24028394,\n",
      "         0.02318439,  0.01073226],\n",
      "       [ 0.11825754, -0.21515435, -0.03468646, ..., -0.03195016,\n",
      "        -0.07939163, -0.13690206]], dtype=float32), array([ 1.55252116e-02, -2.37086639e-02,  1.24893589e-02,  1.74800344e-02,\n",
      "       -4.27990705e-02, -6.89746588e-02,  7.50998259e-02, -3.66556421e-02,\n",
      "       -1.77636147e-02, -6.37418106e-02,  7.04939812e-02,  7.02274218e-02,\n",
      "        2.97923759e-02,  1.57521553e-02, -2.61755977e-02,  3.50343473e-02,\n",
      "        9.02867597e-03, -4.90988456e-02,  2.06321403e-02, -2.30722111e-02,\n",
      "       -3.31933610e-02, -3.16979401e-02, -2.58159507e-02, -6.78364187e-02,\n",
      "        5.80217019e-02, -7.09361583e-02, -2.90063508e-02,  9.44107957e-03,\n",
      "        7.32936664e-03, -4.22418453e-02, -4.45597023e-02,  9.49534867e-03,\n",
      "        1.73258595e-02,  2.98005366e-03, -7.06752436e-03, -4.06445563e-02,\n",
      "        4.97495197e-02, -3.11965053e-03, -1.32962279e-02,  1.77658554e-02,\n",
      "       -5.09941690e-02, -5.63640259e-02, -5.65407984e-02, -5.15336990e-02,\n",
      "       -4.96547595e-02,  2.99848872e-03, -8.30148440e-03,  2.37009414e-02,\n",
      "       -3.61338183e-02,  3.44234928e-02,  5.56615042e-03,  8.26457590e-02,\n",
      "       -1.88706759e-02, -2.39804690e-03,  2.21405607e-02, -5.01378439e-02,\n",
      "       -3.18322182e-02,  4.15767506e-02, -6.26143813e-02, -5.54207116e-02,\n",
      "        3.95506211e-02,  5.90556078e-02, -5.34908623e-02, -4.21423763e-02,\n",
      "       -2.47178581e-02, -2.50447774e-03,  8.02774206e-02,  1.52406795e-02,\n",
      "       -2.70370841e-02,  2.02610884e-02, -6.64463490e-02, -3.68485600e-02,\n",
      "       -5.76475523e-02, -5.37932925e-02,  3.60713974e-02,  3.30853858e-03,\n",
      "       -4.70590107e-02,  4.77171615e-02, -3.45195569e-02,  1.04854805e-02,\n",
      "       -5.61576821e-02, -2.43699215e-02,  4.34303358e-02, -4.59705330e-02,\n",
      "       -5.55590540e-02, -5.15681133e-02, -3.31924595e-02, -1.96123822e-03,\n",
      "       -6.17969818e-02, -4.71449494e-02,  8.87077600e-02, -2.99150757e-02,\n",
      "       -6.96405815e-03, -7.60743320e-02, -4.68010008e-02,  5.47061116e-03,\n",
      "        7.29807070e-05, -1.53596047e-02,  7.28626996e-02, -1.24272639e-02,\n",
      "        8.74822401e-03, -4.57125232e-02,  7.49678817e-03, -9.75773297e-03,\n",
      "       -5.13239168e-02, -9.70701501e-03,  7.67744854e-02,  7.17593133e-02,\n",
      "        5.91848679e-02, -1.69842299e-02, -2.74148900e-02, -4.80137728e-02,\n",
      "       -4.47041588e-03, -1.03508146e-03, -4.26315218e-02, -4.48098667e-02,\n",
      "        6.52086362e-02, -3.35634011e-03,  4.92139906e-02, -1.44834118e-02,\n",
      "       -8.28184783e-02, -5.74396141e-02,  5.21368273e-02, -5.14213927e-04,\n",
      "        8.06588586e-03, -4.22025397e-02, -1.15865469e-02,  3.05218296e-03],\n",
      "      dtype=float32), array([[ 0.06869651],\n",
      "       [-0.02521937],\n",
      "       [-0.19223626],\n",
      "       [-0.36042178],\n",
      "       [ 0.03544462],\n",
      "       [ 0.05949196],\n",
      "       [-0.11801171],\n",
      "       [ 0.2025878 ],\n",
      "       [ 0.04865046],\n",
      "       [-0.55310947],\n",
      "       [ 0.14216702],\n",
      "       [-0.0728562 ],\n",
      "       [-0.04284045],\n",
      "       [ 0.11280535],\n",
      "       [-0.10970493],\n",
      "       [ 0.05490605],\n",
      "       [-0.505349  ],\n",
      "       [ 0.18954687],\n",
      "       [-0.06940627],\n",
      "       [ 0.05840711],\n",
      "       [-0.13474739],\n",
      "       [-0.06212784],\n",
      "       [-0.09942561],\n",
      "       [-0.20522787],\n",
      "       [-0.04316999],\n",
      "       [-0.06615729],\n",
      "       [-0.11081681],\n",
      "       [ 0.21559978],\n",
      "       [ 0.03666274],\n",
      "       [ 0.12847362],\n",
      "       [-0.02819033],\n",
      "       [-0.4048017 ],\n",
      "       [ 0.0846853 ],\n",
      "       [ 0.04884276],\n",
      "       [-0.20295048],\n",
      "       [-0.07566381],\n",
      "       [ 0.0066582 ],\n",
      "       [ 0.4225078 ],\n",
      "       [ 0.10984943],\n",
      "       [ 0.01942281],\n",
      "       [ 0.01728422],\n",
      "       [-0.00389001],\n",
      "       [-0.01717964],\n",
      "       [ 0.05062416],\n",
      "       [-0.1823986 ],\n",
      "       [-0.06064267],\n",
      "       [ 0.02713881],\n",
      "       [-0.09612224],\n",
      "       [-0.14783454],\n",
      "       [ 0.01327034],\n",
      "       [-0.1230504 ],\n",
      "       [ 0.1202601 ],\n",
      "       [-0.4561697 ],\n",
      "       [ 0.0282511 ],\n",
      "       [-0.13152288],\n",
      "       [-0.19458778],\n",
      "       [-0.18517913],\n",
      "       [-0.12860206],\n",
      "       [-0.26633388],\n",
      "       [ 0.06534625],\n",
      "       [-0.01287354],\n",
      "       [ 0.14471374],\n",
      "       [ 0.14041384],\n",
      "       [ 0.24618956],\n",
      "       [-0.2357132 ],\n",
      "       [-0.07982709],\n",
      "       [ 0.0773669 ],\n",
      "       [-0.04021672],\n",
      "       [-0.12754907],\n",
      "       [ 0.01925612],\n",
      "       [ 0.01024118],\n",
      "       [ 0.21207115],\n",
      "       [-0.24099034],\n",
      "       [-0.02031062],\n",
      "       [-0.2352195 ],\n",
      "       [ 0.127984  ],\n",
      "       [ 0.11078843],\n",
      "       [-0.6278357 ],\n",
      "       [ 0.00143304],\n",
      "       [-0.11311544],\n",
      "       [ 0.13462311],\n",
      "       [ 0.15653999],\n",
      "       [ 0.08765709],\n",
      "       [-0.05942115],\n",
      "       [-0.1345079 ],\n",
      "       [ 0.09528238],\n",
      "       [-0.20323122],\n",
      "       [-0.22524494],\n",
      "       [-0.2512699 ],\n",
      "       [ 0.07875795],\n",
      "       [-0.20850888],\n",
      "       [-0.01433611],\n",
      "       [-0.13039297],\n",
      "       [ 0.02971912],\n",
      "       [-0.04464636],\n",
      "       [-0.02724525],\n",
      "       [-0.4284024 ],\n",
      "       [-0.18994005],\n",
      "       [-0.06468076],\n",
      "       [ 0.09825895],\n",
      "       [ 0.07956312],\n",
      "       [ 0.02851737],\n",
      "       [-0.06178369],\n",
      "       [ 0.17978883],\n",
      "       [-0.00160854],\n",
      "       [-0.23274815],\n",
      "       [ 0.12342071],\n",
      "       [-0.18542261],\n",
      "       [-0.2468584 ],\n",
      "       [-0.2358691 ],\n",
      "       [-0.18929453],\n",
      "       [-0.02838117],\n",
      "       [ 0.27510533],\n",
      "       [ 0.09441163],\n",
      "       [-0.14164677],\n",
      "       [-0.12263323],\n",
      "       [-0.01966754],\n",
      "       [ 0.44424352],\n",
      "       [-0.22095747],\n",
      "       [ 0.12860362],\n",
      "       [ 0.09732775],\n",
      "       [-0.0570353 ],\n",
      "       [-0.20970094],\n",
      "       [-0.17539845],\n",
      "       [ 0.10097148],\n",
      "       [-0.15559569],\n",
      "       [-0.16434325],\n",
      "       [-0.0107812 ]], dtype=float32), array([-0.78564155], dtype=float32)]\n"
     ]
    }
   ],
   "source": [
    "print(model.get_weights())"
   ]
  },
  {
   "cell_type": "code",
   "execution_count": 11,
   "metadata": {},
   "outputs": [],
   "source": [
    "## Step 2 : Helper function\n",
    "# Function to decode the review\n",
    "def decode_review(encoded_review):\n",
    "    text = ' '.join([reverse_word_index.get(i-3, '?') for i in encoded_review])\n",
    "    return text\n",
    "\n",
    "# function to preprocess user inputs \n",
    "\n",
    "def preprocess_text(text):\n",
    "    words = text.lower().split()\n",
    "    encoded_review = [word_index.get(word,2) + 3 for word in words] \n",
    "    padded_review = sequence.pad_sequences([encoded_review], maxlen=500)\n",
    "    return padded_review"
   ]
  },
  {
   "cell_type": "code",
   "execution_count": 23,
   "metadata": {},
   "outputs": [],
   "source": [
    "# Prediction funnction\n",
    "\n",
    "def predict_sentiment(review):\n",
    "    preprocessed_input = preprocess_text(review)\n",
    "    \n",
    "    prediction = model.predict(preprocessed_input)\n",
    "    \n",
    "    sentiment = 'Positive' if prediction[0][0] > 0.5 else 'Negative'\n",
    "    \n",
    "    return sentiment, prediction[0][0]\n",
    "    "
   ]
  },
  {
   "cell_type": "code",
   "execution_count": null,
   "metadata": {},
   "outputs": [],
   "source": []
  },
  {
   "cell_type": "code",
   "execution_count": 24,
   "metadata": {},
   "outputs": [
    {
     "name": "stdout",
     "output_type": "stream",
     "text": [
      "\u001b[1m1/1\u001b[0m \u001b[32m━━━━━━━━━━━━━━━━━━━━\u001b[0m\u001b[37m\u001b[0m \u001b[1m0s\u001b[0m 65ms/step\n",
      "Review: This movie was fantastic! The acting was great and the plot was thrilling.\n",
      "Sentiment: Negative\n",
      "Prediction Score: 0.024157322943210602\n"
     ]
    }
   ],
   "source": [
    "# Step 4: User Input and Prediction\n",
    "# Example review for prediction\n",
    "example_review = \"This movie was fantastic! The acting was great and the plot was thrilling.\"\n",
    "        \n",
    "sentiment,score =predict_sentiment(example_review)\n",
    "\n",
    "print(f'Review: {example_review}')\n",
    "print(f'Sentiment: {sentiment}')\n",
    "print(f'Prediction Score: {score}')\n"
   ]
  },
  {
   "cell_type": "code",
   "execution_count": null,
   "metadata": {},
   "outputs": [],
   "source": []
  },
  {
   "cell_type": "code",
   "execution_count": null,
   "metadata": {},
   "outputs": [],
   "source": []
  },
  {
   "cell_type": "code",
   "execution_count": null,
   "metadata": {},
   "outputs": [],
   "source": []
  }
 ],
 "metadata": {
  "kernelspec": {
   "display_name": "genai",
   "language": "python",
   "name": "python3"
  },
  "language_info": {
   "codemirror_mode": {
    "name": "ipython",
    "version": 3
   },
   "file_extension": ".py",
   "mimetype": "text/x-python",
   "name": "python",
   "nbconvert_exporter": "python",
   "pygments_lexer": "ipython3",
   "version": "3.12.0"
  }
 },
 "nbformat": 4,
 "nbformat_minor": 2
}
